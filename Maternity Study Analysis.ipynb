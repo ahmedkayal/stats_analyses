{
 "cells": [
  {
   "cell_type": "markdown",
   "metadata": {},
   "source": [
    "The following analysis uses the data from a maternity study to draw meanginful statistically based conclusions.\n",
    "\n",
    "Developed by Ahmed Kayal"
   ]
  },
  {
   "cell_type": "markdown",
   "metadata": {},
   "source": [
    "##### Package imports"
   ]
  },
  {
   "cell_type": "code",
   "execution_count": 1,
   "metadata": {},
   "outputs": [],
   "source": [
    "import numpy as np\n",
    "import pandas as pd\n",
    "from scipy import stats\n",
    "import statsmodels.api as sm\n",
    "from sklearn.linear_model import LogisticRegression"
   ]
  },
  {
   "cell_type": "markdown",
   "metadata": {},
   "source": [
    "<br>"
   ]
  },
  {
   "cell_type": "markdown",
   "metadata": {},
   "source": [
    "#### File read"
   ]
  },
  {
   "cell_type": "code",
   "execution_count": 2,
   "metadata": {},
   "outputs": [
    {
     "data": {
      "text/html": [
       "<div>\n",
       "<style scoped>\n",
       "    .dataframe tbody tr th:only-of-type {\n",
       "        vertical-align: middle;\n",
       "    }\n",
       "\n",
       "    .dataframe tbody tr th {\n",
       "        vertical-align: top;\n",
       "    }\n",
       "\n",
       "    .dataframe thead th {\n",
       "        text-align: right;\n",
       "    }\n",
       "</style>\n",
       "<table border=\"1\" class=\"dataframe\">\n",
       "  <thead>\n",
       "    <tr style=\"text-align: right;\">\n",
       "      <th></th>\n",
       "      <th>STUDYID</th>\n",
       "      <th>LOW</th>\n",
       "      <th>AGE</th>\n",
       "      <th>LWT</th>\n",
       "      <th>RACE</th>\n",
       "      <th>SMOKE</th>\n",
       "      <th>PTL</th>\n",
       "      <th>HT</th>\n",
       "      <th>UI</th>\n",
       "      <th>FTV</th>\n",
       "      <th>BWT</th>\n",
       "    </tr>\n",
       "  </thead>\n",
       "  <tbody>\n",
       "    <tr>\n",
       "      <th>0</th>\n",
       "      <td>85</td>\n",
       "      <td>0</td>\n",
       "      <td>19</td>\n",
       "      <td>182</td>\n",
       "      <td>2</td>\n",
       "      <td>0</td>\n",
       "      <td>0</td>\n",
       "      <td>0</td>\n",
       "      <td>1</td>\n",
       "      <td>0</td>\n",
       "      <td>2523</td>\n",
       "    </tr>\n",
       "    <tr>\n",
       "      <th>1</th>\n",
       "      <td>86</td>\n",
       "      <td>0</td>\n",
       "      <td>33</td>\n",
       "      <td>155</td>\n",
       "      <td>3</td>\n",
       "      <td>0</td>\n",
       "      <td>0</td>\n",
       "      <td>0</td>\n",
       "      <td>0</td>\n",
       "      <td>3</td>\n",
       "      <td>2551</td>\n",
       "    </tr>\n",
       "    <tr>\n",
       "      <th>2</th>\n",
       "      <td>87</td>\n",
       "      <td>0</td>\n",
       "      <td>20</td>\n",
       "      <td>105</td>\n",
       "      <td>1</td>\n",
       "      <td>1</td>\n",
       "      <td>0</td>\n",
       "      <td>0</td>\n",
       "      <td>0</td>\n",
       "      <td>1</td>\n",
       "      <td>2557</td>\n",
       "    </tr>\n",
       "    <tr>\n",
       "      <th>3</th>\n",
       "      <td>88</td>\n",
       "      <td>0</td>\n",
       "      <td>21</td>\n",
       "      <td>108</td>\n",
       "      <td>1</td>\n",
       "      <td>1</td>\n",
       "      <td>0</td>\n",
       "      <td>0</td>\n",
       "      <td>1</td>\n",
       "      <td>2</td>\n",
       "      <td>2594</td>\n",
       "    </tr>\n",
       "    <tr>\n",
       "      <th>4</th>\n",
       "      <td>89</td>\n",
       "      <td>0</td>\n",
       "      <td>18</td>\n",
       "      <td>107</td>\n",
       "      <td>1</td>\n",
       "      <td>1</td>\n",
       "      <td>0</td>\n",
       "      <td>0</td>\n",
       "      <td>1</td>\n",
       "      <td>0</td>\n",
       "      <td>2600</td>\n",
       "    </tr>\n",
       "  </tbody>\n",
       "</table>\n",
       "</div>"
      ],
      "text/plain": [
       "   STUDYID  LOW  AGE  LWT  RACE  SMOKE  PTL  HT  UI  FTV   BWT\n",
       "0       85    0   19  182     2      0    0   0   1    0  2523\n",
       "1       86    0   33  155     3      0    0   0   0    3  2551\n",
       "2       87    0   20  105     1      1    0   0   0    1  2557\n",
       "3       88    0   21  108     1      1    0   0   1    2  2594\n",
       "4       89    0   18  107     1      1    0   0   1    0  2600"
      ]
     },
     "execution_count": 2,
     "metadata": {},
     "output_type": "execute_result"
    }
   ],
   "source": [
    "maternity_info = pd.read_csv(\"/Users/ahmed/Desktop/lowbwt.csv\")\n",
    "maternity_info.head()"
   ]
  },
  {
   "cell_type": "code",
   "execution_count": 3,
   "metadata": {},
   "outputs": [
    {
     "data": {
      "text/plain": [
       "Index(['STUDYID', 'LOW', 'AGE', 'LWT', 'RACE', 'SMOKE', 'PTL', 'HT', 'UI',\n",
       "       'FTV', 'BWT'],\n",
       "      dtype='object')"
      ]
     },
     "execution_count": 3,
     "metadata": {},
     "output_type": "execute_result"
    }
   ],
   "source": [
    "maternity_info.columns"
   ]
  },
  {
   "cell_type": "markdown",
   "metadata": {},
   "source": [
    "*Data dictionary*\n",
    "\n",
    "\n",
    "* STUDYID: Subject ID number <br>\n",
    "* LOW: Low birth weight indicator, 0=no, 1=yes <br>\n",
    "* AGE: Age of mother, years <br>\n",
    "* LWT: Weight of mother at last menstrual period, pounds <br>\n",
    "* RACE: Race, 1=white, 2=black, 3=other <br>\n",
    "* SMOKE: Mother's smoking status at pregnancy, 0=no, 1=yes <br>\n",
    "* PTL: History of pre-mature labor, 0=none, 1=one, etc. <br>\n",
    "* HT: History of hypertension, 0=no, 1=yes <br>\n",
    "* UI: Presence of uterine irritability, 0=no, 1=yes <br>\n",
    "* FTV: Number of physician visits during first trimester, 0=none, 1=one, etc. <br>\n",
    "* BWT: Birth weight, grams <br>\n",
    "<br>\n"
   ]
  },
  {
   "cell_type": "markdown",
   "metadata": {},
   "source": [
    "**Interest**\n",
    "\n",
    "The goal of this analysis is to determine the risk factors that are associated with with low birth weight. To do so, I'll look at the odds ratio of each feature and the associated p-value. "
   ]
  },
  {
   "cell_type": "markdown",
   "metadata": {},
   "source": [
    "#### Subsetting dataframe to the features of interest for my analysis"
   ]
  },
  {
   "cell_type": "code",
   "execution_count": 4,
   "metadata": {},
   "outputs": [],
   "source": [
    "relevant_columns = [\"AGE\", \"LWT\", \"SMOKE\", \"PTL\", \"HT\", \"UI\", \"FTV\"]\n",
    "target = maternity_info.LOW\n"
   ]
  },
  {
   "cell_type": "code",
   "execution_count": 5,
   "metadata": {},
   "outputs": [
    {
     "name": "stdout",
     "output_type": "stream",
     "text": [
      "AGE Odds ratio value: 0.95018\n",
      "Associated p-value: 0.105 \n",
      "\n",
      "LWT Odds ratio value: 0.98604\n",
      "Associated p-value: 0.023 \n",
      "\n",
      "SMOKE Odds ratio value: 1.89433\n",
      "Associated p-value: 0.028 \n",
      "\n",
      "PTL Odds ratio value: 2.07393\n",
      "Associated p-value: 0.011 \n",
      "\n",
      "HT Odds ratio value: 2.43446\n",
      "Associated p-value: 0.046 \n",
      "\n",
      "UI Odds ratio value: 2.24072\n",
      "Associated p-value: 0.023 \n",
      "\n",
      "FTV Odds ratio value: 0.87644\n",
      "Associated p-value: 0.389 \n",
      "\n"
     ]
    }
   ],
   "source": [
    "# Executing a for loop to quickly calculate the odds ratio of each feature\n",
    "\n",
    "for col in relevant_columns:\n",
    "    clf = LogisticRegression(solver='lbfgs').fit(maternity_info[[col]], target)\n",
    "    print(f\"{col} Odds ratio value: {round(np.exp(clf.coef_)[0][0], 5)}\")\n",
    "    \n",
    "    model = sm.formula.glm(\"LOW ~ %s\" % (col), family=sm.families.Binomial(), data=maternity_info).fit()\n",
    "    print(f\"Associated p-value: {round(pd.read_html(model.summary().tables[1].as_html(), header=0, index_col=0)[0]['P>|z|'][col], 5)} \\n\")\n",
    "          "
   ]
  },
  {
   "cell_type": "markdown",
   "metadata": {},
   "source": [
    "**Conclusion**\n",
    "\n",
    "From the above output, the several risk factors that have a statistically significant association with low birth weight are:\n",
    "* Weight of the mother at their last menstrual period\n",
    "* Smoking\n",
    "* History of pre-mature labor\n",
    "* History of hypertension\n",
    "* Presence of uterine irritability\n",
    "\n",
    "Additionally, using the odds ratio values as a foundation, there are a several meaningful conclusions that can be drawn:\n",
    "* The odds of having a  baby with a low birth weight is .986 times lower with every one pound increase in the weight of the mother at her last menstrual period. \n",
    "* Women who smoke during pregnancy are 1.89 times more likely to give birth to a baby with a low birth weight than pregnant women who do not smoke. \n",
    "* Women who have a history of premature labor are 2.07 times more likely to give birth to a baby with a low birth weight than pregnant women who do not have such a history. \n",
    "* The odds of having a baby with a low birth weight is 2.43 times more likely in women who have a history of hypertension.\n",
    "* Finally, women are 2.24 more likely to give birth to a child with low birth weight if they have a history of uterine irritability. "
   ]
  },
  {
   "cell_type": "markdown",
   "metadata": {},
   "source": [
    "<br>"
   ]
  }
 ],
 "metadata": {
  "kernelspec": {
   "display_name": "Python 3",
   "language": "python",
   "name": "python3"
  },
  "language_info": {
   "codemirror_mode": {
    "name": "ipython",
    "version": 3
   },
   "file_extension": ".py",
   "mimetype": "text/x-python",
   "name": "python",
   "nbconvert_exporter": "python",
   "pygments_lexer": "ipython3",
   "version": "3.6.8"
  }
 },
 "nbformat": 4,
 "nbformat_minor": 2
}
