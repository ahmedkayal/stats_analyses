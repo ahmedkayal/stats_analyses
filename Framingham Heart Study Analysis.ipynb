{
 "cells": [
  {
   "cell_type": "markdown",
   "metadata": {},
   "source": [
    "The following analysis uses a subset of the Framingham Heart Study to draw meanginful statistically based conclusions.\n",
    "\n",
    "Developed by Ahmed Kayal"
   ]
  },
  {
   "cell_type": "markdown",
   "metadata": {},
   "source": [
    "#### Package imports"
   ]
  },
  {
   "cell_type": "code",
   "execution_count": 1,
   "metadata": {},
   "outputs": [],
   "source": [
    "import numpy as np\n",
    "import pandas as pd\n",
    "import scipy.stats as st\n",
    "import matplotlib.pyplot as plt"
   ]
  },
  {
   "cell_type": "markdown",
   "metadata": {},
   "source": [
    "<br>"
   ]
  },
  {
   "cell_type": "markdown",
   "metadata": {},
   "source": [
    "##### File read and overview"
   ]
  },
  {
   "cell_type": "code",
   "execution_count": 2,
   "metadata": {},
   "outputs": [
    {
     "data": {
      "text/plain": [
       "(500, 12)"
      ]
     },
     "execution_count": 2,
     "metadata": {},
     "output_type": "execute_result"
    }
   ],
   "source": [
    "framingham_heart_study = pd.read_csv(\"/Users/ahmed/Desktop/FramHSn500.csv\")\n",
    "framingham_heart_study.shape"
   ]
  },
  {
   "cell_type": "code",
   "execution_count": 3,
   "metadata": {},
   "outputs": [
    {
     "data": {
      "text/html": [
       "<div>\n",
       "<style scoped>\n",
       "    .dataframe tbody tr th:only-of-type {\n",
       "        vertical-align: middle;\n",
       "    }\n",
       "\n",
       "    .dataframe tbody tr th {\n",
       "        vertical-align: top;\n",
       "    }\n",
       "\n",
       "    .dataframe thead th {\n",
       "        text-align: right;\n",
       "    }\n",
       "</style>\n",
       "<table border=\"1\" class=\"dataframe\">\n",
       "  <thead>\n",
       "    <tr style=\"text-align: right;\">\n",
       "      <th></th>\n",
       "      <th>RANDID</th>\n",
       "      <th>SEX</th>\n",
       "      <th>AGE</th>\n",
       "      <th>SYSBP</th>\n",
       "      <th>DIABP</th>\n",
       "      <th>TOTCHOL</th>\n",
       "      <th>CURSMOKE</th>\n",
       "      <th>FRAM_BMI</th>\n",
       "      <th>COFFEE</th>\n",
       "      <th>DIABETES</th>\n",
       "      <th>HEARTDIS</th>\n",
       "      <th>ANYDEATH</th>\n",
       "    </tr>\n",
       "  </thead>\n",
       "  <tbody>\n",
       "    <tr>\n",
       "      <th>0</th>\n",
       "      <td>9651782</td>\n",
       "      <td>2</td>\n",
       "      <td>56</td>\n",
       "      <td>134.0</td>\n",
       "      <td>75.0</td>\n",
       "      <td>217</td>\n",
       "      <td>1</td>\n",
       "      <td>29.585464</td>\n",
       "      <td>2</td>\n",
       "      <td>0</td>\n",
       "      <td>0</td>\n",
       "      <td>0</td>\n",
       "    </tr>\n",
       "    <tr>\n",
       "      <th>1</th>\n",
       "      <td>9309361</td>\n",
       "      <td>1</td>\n",
       "      <td>63</td>\n",
       "      <td>110.0</td>\n",
       "      <td>68.0</td>\n",
       "      <td>217</td>\n",
       "      <td>1</td>\n",
       "      <td>21.991694</td>\n",
       "      <td>3</td>\n",
       "      <td>0</td>\n",
       "      <td>0</td>\n",
       "      <td>1</td>\n",
       "    </tr>\n",
       "    <tr>\n",
       "      <th>2</th>\n",
       "      <td>8224634</td>\n",
       "      <td>2</td>\n",
       "      <td>54</td>\n",
       "      <td>135.0</td>\n",
       "      <td>85.0</td>\n",
       "      <td>230</td>\n",
       "      <td>0</td>\n",
       "      <td>19.177015</td>\n",
       "      <td>1</td>\n",
       "      <td>0</td>\n",
       "      <td>0</td>\n",
       "      <td>0</td>\n",
       "    </tr>\n",
       "    <tr>\n",
       "      <th>3</th>\n",
       "      <td>6215341</td>\n",
       "      <td>1</td>\n",
       "      <td>44</td>\n",
       "      <td>134.0</td>\n",
       "      <td>88.0</td>\n",
       "      <td>240</td>\n",
       "      <td>1</td>\n",
       "      <td>31.623093</td>\n",
       "      <td>6</td>\n",
       "      <td>0</td>\n",
       "      <td>0</td>\n",
       "      <td>1</td>\n",
       "    </tr>\n",
       "    <tr>\n",
       "      <th>4</th>\n",
       "      <td>2930353</td>\n",
       "      <td>2</td>\n",
       "      <td>50</td>\n",
       "      <td>156.0</td>\n",
       "      <td>90.0</td>\n",
       "      <td>298</td>\n",
       "      <td>1</td>\n",
       "      <td>24.047991</td>\n",
       "      <td>6</td>\n",
       "      <td>0</td>\n",
       "      <td>0</td>\n",
       "      <td>0</td>\n",
       "    </tr>\n",
       "  </tbody>\n",
       "</table>\n",
       "</div>"
      ],
      "text/plain": [
       "    RANDID  SEX  AGE  SYSBP  DIABP  TOTCHOL  CURSMOKE   FRAM_BMI  COFFEE  \\\n",
       "0  9651782    2   56  134.0   75.0      217         1  29.585464       2   \n",
       "1  9309361    1   63  110.0   68.0      217         1  21.991694       3   \n",
       "2  8224634    2   54  135.0   85.0      230         0  19.177015       1   \n",
       "3  6215341    1   44  134.0   88.0      240         1  31.623093       6   \n",
       "4  2930353    2   50  156.0   90.0      298         1  24.047991       6   \n",
       "\n",
       "   DIABETES  HEARTDIS  ANYDEATH  \n",
       "0         0         0         0  \n",
       "1         0         0         1  \n",
       "2         0         0         0  \n",
       "3         0         0         1  \n",
       "4         0         0         0  "
      ]
     },
     "execution_count": 3,
     "metadata": {},
     "output_type": "execute_result"
    }
   ],
   "source": [
    "framingham_heart_study.head()"
   ]
  },
  {
   "cell_type": "code",
   "execution_count": 4,
   "metadata": {},
   "outputs": [
    {
     "data": {
      "text/html": [
       "<div>\n",
       "<style scoped>\n",
       "    .dataframe tbody tr th:only-of-type {\n",
       "        vertical-align: middle;\n",
       "    }\n",
       "\n",
       "    .dataframe tbody tr th {\n",
       "        vertical-align: top;\n",
       "    }\n",
       "\n",
       "    .dataframe thead th {\n",
       "        text-align: right;\n",
       "    }\n",
       "</style>\n",
       "<table border=\"1\" class=\"dataframe\">\n",
       "  <thead>\n",
       "    <tr style=\"text-align: right;\">\n",
       "      <th></th>\n",
       "      <th>AGE</th>\n",
       "      <th>SYSBP</th>\n",
       "      <th>DIABP</th>\n",
       "      <th>TOTCHOL</th>\n",
       "      <th>FRAM_BMI</th>\n",
       "      <th>COFFEE</th>\n",
       "    </tr>\n",
       "  </thead>\n",
       "  <tbody>\n",
       "    <tr>\n",
       "      <th>count</th>\n",
       "      <td>500.000000</td>\n",
       "      <td>500.000000</td>\n",
       "      <td>500.000000</td>\n",
       "      <td>500.000000</td>\n",
       "      <td>500.000000</td>\n",
       "      <td>500.000000</td>\n",
       "    </tr>\n",
       "    <tr>\n",
       "      <th>mean</th>\n",
       "      <td>49.826000</td>\n",
       "      <td>133.282000</td>\n",
       "      <td>83.363000</td>\n",
       "      <td>233.704000</td>\n",
       "      <td>25.535635</td>\n",
       "      <td>2.854000</td>\n",
       "    </tr>\n",
       "    <tr>\n",
       "      <th>std</th>\n",
       "      <td>8.458535</td>\n",
       "      <td>22.470789</td>\n",
       "      <td>12.314911</td>\n",
       "      <td>42.065513</td>\n",
       "      <td>4.084633</td>\n",
       "      <td>1.703669</td>\n",
       "    </tr>\n",
       "    <tr>\n",
       "      <th>min</th>\n",
       "      <td>34.000000</td>\n",
       "      <td>83.500000</td>\n",
       "      <td>50.000000</td>\n",
       "      <td>143.000000</td>\n",
       "      <td>15.963078</td>\n",
       "      <td>0.000000</td>\n",
       "    </tr>\n",
       "    <tr>\n",
       "      <th>25%</th>\n",
       "      <td>43.000000</td>\n",
       "      <td>118.000000</td>\n",
       "      <td>75.000000</td>\n",
       "      <td>202.750000</td>\n",
       "      <td>22.769689</td>\n",
       "      <td>2.000000</td>\n",
       "    </tr>\n",
       "    <tr>\n",
       "      <th>50%</th>\n",
       "      <td>49.000000</td>\n",
       "      <td>130.000000</td>\n",
       "      <td>82.000000</td>\n",
       "      <td>232.500000</td>\n",
       "      <td>24.988736</td>\n",
       "      <td>3.000000</td>\n",
       "    </tr>\n",
       "    <tr>\n",
       "      <th>75%</th>\n",
       "      <td>56.000000</td>\n",
       "      <td>145.000000</td>\n",
       "      <td>89.000000</td>\n",
       "      <td>259.000000</td>\n",
       "      <td>27.866909</td>\n",
       "      <td>4.000000</td>\n",
       "    </tr>\n",
       "    <tr>\n",
       "      <th>max</th>\n",
       "      <td>69.000000</td>\n",
       "      <td>295.000000</td>\n",
       "      <td>140.000000</td>\n",
       "      <td>372.000000</td>\n",
       "      <td>43.300987</td>\n",
       "      <td>6.000000</td>\n",
       "    </tr>\n",
       "  </tbody>\n",
       "</table>\n",
       "</div>"
      ],
      "text/plain": [
       "              AGE       SYSBP       DIABP     TOTCHOL    FRAM_BMI      COFFEE\n",
       "count  500.000000  500.000000  500.000000  500.000000  500.000000  500.000000\n",
       "mean    49.826000  133.282000   83.363000  233.704000   25.535635    2.854000\n",
       "std      8.458535   22.470789   12.314911   42.065513    4.084633    1.703669\n",
       "min     34.000000   83.500000   50.000000  143.000000   15.963078    0.000000\n",
       "25%     43.000000  118.000000   75.000000  202.750000   22.769689    2.000000\n",
       "50%     49.000000  130.000000   82.000000  232.500000   24.988736    3.000000\n",
       "75%     56.000000  145.000000   89.000000  259.000000   27.866909    4.000000\n",
       "max     69.000000  295.000000  140.000000  372.000000   43.300987    6.000000"
      ]
     },
     "execution_count": 4,
     "metadata": {},
     "output_type": "execute_result"
    }
   ],
   "source": [
    "relevant_binary_cols = ['SEX', 'DIABETES', 'HEARTDIS', 'ANYDEATH']\n",
    "relevant_continuous_cols = ['AGE', 'SYSBP', 'DIABP', 'TOTCHOL', 'FRAM_BMI', 'COFFEE']\n",
    "framingham_heart_study[relevant_continuous_cols].describe()"
   ]
  },
  {
   "cell_type": "code",
   "execution_count": 5,
   "metadata": {},
   "outputs": [],
   "source": [
    "# Creating a new column to categorize the obesity level of each individual \n",
    "framingham_heart_study[\"BMI_category\"] = pd.cut(framingham_heart_study[\"FRAM_BMI\"], bins=[0, 18.5, 25, 30, np.inf], labels=['underweight', 'normal', 'overweight', 'obese'])\n"
   ]
  },
  {
   "cell_type": "markdown",
   "metadata": {},
   "source": [
    "<br>"
   ]
  },
  {
   "cell_type": "markdown",
   "metadata": {},
   "source": [
    "#### Looking at the relationship between Diabetes and Obesity"
   ]
  },
  {
   "cell_type": "code",
   "execution_count": 6,
   "metadata": {},
   "outputs": [
    {
     "data": {
      "text/html": [
       "<div>\n",
       "<style scoped>\n",
       "    .dataframe tbody tr th:only-of-type {\n",
       "        vertical-align: middle;\n",
       "    }\n",
       "\n",
       "    .dataframe tbody tr th {\n",
       "        vertical-align: top;\n",
       "    }\n",
       "\n",
       "    .dataframe thead th {\n",
       "        text-align: right;\n",
       "    }\n",
       "</style>\n",
       "<table border=\"1\" class=\"dataframe\">\n",
       "  <thead>\n",
       "    <tr style=\"text-align: right;\">\n",
       "      <th></th>\n",
       "      <th>Non-diabetic</th>\n",
       "      <th>Diabetic</th>\n",
       "      <th>Row Total</th>\n",
       "    </tr>\n",
       "  </thead>\n",
       "  <tbody>\n",
       "    <tr>\n",
       "      <th>underweight</th>\n",
       "      <td>12</td>\n",
       "      <td>0</td>\n",
       "      <td>12</td>\n",
       "    </tr>\n",
       "    <tr>\n",
       "      <th>normal</th>\n",
       "      <td>234</td>\n",
       "      <td>5</td>\n",
       "      <td>239</td>\n",
       "    </tr>\n",
       "    <tr>\n",
       "      <th>overweight</th>\n",
       "      <td>182</td>\n",
       "      <td>7</td>\n",
       "      <td>189</td>\n",
       "    </tr>\n",
       "    <tr>\n",
       "      <th>obese</th>\n",
       "      <td>57</td>\n",
       "      <td>3</td>\n",
       "      <td>60</td>\n",
       "    </tr>\n",
       "    <tr>\n",
       "      <th>Col Total</th>\n",
       "      <td>485</td>\n",
       "      <td>15</td>\n",
       "      <td>500</td>\n",
       "    </tr>\n",
       "  </tbody>\n",
       "</table>\n",
       "</div>"
      ],
      "text/plain": [
       "             Non-diabetic  Diabetic  Row Total\n",
       "underweight            12         0         12\n",
       "normal                234         5        239\n",
       "overweight            182         7        189\n",
       "obese                  57         3         60\n",
       "Col Total             485        15        500"
      ]
     },
     "execution_count": 6,
     "metadata": {},
     "output_type": "execute_result"
    }
   ],
   "source": [
    "raw_diabetes_and_obesity_counts = pd.crosstab(index=framingham_heart_study[\"BMI_category\"], columns=framingham_heart_study[\"DIABETES\"], margins=True)\n",
    "\n",
    "raw_diabetes_and_obesity_counts.columns = [\"Non-diabetic\", \"Diabetic\", \"Row Total\"]\n",
    "raw_diabetes_and_obesity_counts.index = [\"underweight\", \"normal\", \"overweight\", \"obese\", \"Col Total\"]\n",
    "raw_diabetes_and_obesity_counts"
   ]
  },
  {
   "cell_type": "code",
   "execution_count": 7,
   "metadata": {},
   "outputs": [],
   "source": [
    "# Probability calulcations\n",
    "diabetes_obesity_prop_table = raw_diabetes_and_obesity_counts[\"Diabetic\"]/raw_diabetes_and_obesity_counts[\"Row Total\"]"
   ]
  },
  {
   "cell_type": "code",
   "execution_count": 8,
   "metadata": {},
   "outputs": [
    {
     "data": {
      "text/html": [
       "<div>\n",
       "<style scoped>\n",
       "    .dataframe tbody tr th:only-of-type {\n",
       "        vertical-align: middle;\n",
       "    }\n",
       "\n",
       "    .dataframe tbody tr th {\n",
       "        vertical-align: top;\n",
       "    }\n",
       "\n",
       "    .dataframe thead th {\n",
       "        text-align: right;\n",
       "    }\n",
       "</style>\n",
       "<table border=\"1\" class=\"dataframe\">\n",
       "  <thead>\n",
       "    <tr style=\"text-align: right;\">\n",
       "      <th></th>\n",
       "      <th>Probabilities</th>\n",
       "    </tr>\n",
       "  </thead>\n",
       "  <tbody>\n",
       "    <tr>\n",
       "      <th>underweight</th>\n",
       "      <td>0.000000</td>\n",
       "    </tr>\n",
       "    <tr>\n",
       "      <th>normal</th>\n",
       "      <td>0.020921</td>\n",
       "    </tr>\n",
       "    <tr>\n",
       "      <th>overweight</th>\n",
       "      <td>0.037037</td>\n",
       "    </tr>\n",
       "    <tr>\n",
       "      <th>obese</th>\n",
       "      <td>0.050000</td>\n",
       "    </tr>\n",
       "  </tbody>\n",
       "</table>\n",
       "</div>"
      ],
      "text/plain": [
       "             Probabilities\n",
       "underweight       0.000000\n",
       "normal            0.020921\n",
       "overweight        0.037037\n",
       "obese             0.050000"
      ]
     },
     "execution_count": 8,
     "metadata": {},
     "output_type": "execute_result"
    }
   ],
   "source": [
    "df = pd.DataFrame({\"Probabilities\":diabetes_obesity_prop_table.values[0:4]}, index=diabetes_obesity_prop_table.index[0:4])\n",
    "df"
   ]
  },
  {
   "cell_type": "markdown",
   "metadata": {},
   "source": [
    "P(Diabetes) = .03"
   ]
  },
  {
   "cell_type": "markdown",
   "metadata": {},
   "source": [
    "**Conclusion**\n",
    "\n",
    "From the above table, its clear that there is a higher likelihood of the individual having diabetes if they are overweight. Additionally, the results of the above table show that Diabetes is not independent of Obesity. The Probability of having Diabetes and the Probability of having Diabetes given an individual that falls into any one of the obesity categories are not equal to one another, which allows me to conclude that the two events are dependent on one another. "
   ]
  },
  {
   "cell_type": "markdown",
   "metadata": {},
   "source": [
    "<br>\n",
    "<br>"
   ]
  },
  {
   "cell_type": "markdown",
   "metadata": {},
   "source": [
    "#### Looking at the relationship between Heart Disease and Obesity"
   ]
  },
  {
   "cell_type": "code",
   "execution_count": 9,
   "metadata": {},
   "outputs": [
    {
     "data": {
      "text/html": [
       "<div>\n",
       "<style scoped>\n",
       "    .dataframe tbody tr th:only-of-type {\n",
       "        vertical-align: middle;\n",
       "    }\n",
       "\n",
       "    .dataframe tbody tr th {\n",
       "        vertical-align: top;\n",
       "    }\n",
       "\n",
       "    .dataframe thead th {\n",
       "        text-align: right;\n",
       "    }\n",
       "</style>\n",
       "<table border=\"1\" class=\"dataframe\">\n",
       "  <thead>\n",
       "    <tr style=\"text-align: right;\">\n",
       "      <th></th>\n",
       "      <th>Negative</th>\n",
       "      <th>Positive</th>\n",
       "      <th>Row Total</th>\n",
       "    </tr>\n",
       "  </thead>\n",
       "  <tbody>\n",
       "    <tr>\n",
       "      <th>underweight</th>\n",
       "      <td>9</td>\n",
       "      <td>3</td>\n",
       "      <td>12</td>\n",
       "    </tr>\n",
       "    <tr>\n",
       "      <th>normal</th>\n",
       "      <td>215</td>\n",
       "      <td>24</td>\n",
       "      <td>239</td>\n",
       "    </tr>\n",
       "    <tr>\n",
       "      <th>overweight</th>\n",
       "      <td>154</td>\n",
       "      <td>35</td>\n",
       "      <td>189</td>\n",
       "    </tr>\n",
       "    <tr>\n",
       "      <th>obese</th>\n",
       "      <td>53</td>\n",
       "      <td>7</td>\n",
       "      <td>60</td>\n",
       "    </tr>\n",
       "    <tr>\n",
       "      <th>Col Total</th>\n",
       "      <td>431</td>\n",
       "      <td>69</td>\n",
       "      <td>500</td>\n",
       "    </tr>\n",
       "  </tbody>\n",
       "</table>\n",
       "</div>"
      ],
      "text/plain": [
       "             Negative  Positive  Row Total\n",
       "underweight         9         3         12\n",
       "normal            215        24        239\n",
       "overweight        154        35        189\n",
       "obese              53         7         60\n",
       "Col Total         431        69        500"
      ]
     },
     "execution_count": 9,
     "metadata": {},
     "output_type": "execute_result"
    }
   ],
   "source": [
    "raw_heartD_and_obesity_counts = pd.crosstab(index=framingham_heart_study[\"BMI_category\"], columns=framingham_heart_study[\"HEARTDIS\"], margins=True)\n",
    "\n",
    "raw_heartD_and_obesity_counts.columns = [\"Negative\", \"Positive\", \"Row Total\"]\n",
    "raw_heartD_and_obesity_counts.index = [\"underweight\", \"normal\", \"overweight\", \"obese\", \"Col Total\"]\n",
    "raw_heartD_and_obesity_counts"
   ]
  },
  {
   "cell_type": "code",
   "execution_count": 10,
   "metadata": {},
   "outputs": [],
   "source": [
    "heartD_obesity_prop_table = raw_heartD_and_obesity_counts[\"Positive\"]/raw_heartD_and_obesity_counts[\"Row Total\"]"
   ]
  },
  {
   "cell_type": "code",
   "execution_count": 11,
   "metadata": {},
   "outputs": [
    {
     "data": {
      "text/html": [
       "<div>\n",
       "<style scoped>\n",
       "    .dataframe tbody tr th:only-of-type {\n",
       "        vertical-align: middle;\n",
       "    }\n",
       "\n",
       "    .dataframe tbody tr th {\n",
       "        vertical-align: top;\n",
       "    }\n",
       "\n",
       "    .dataframe thead th {\n",
       "        text-align: right;\n",
       "    }\n",
       "</style>\n",
       "<table border=\"1\" class=\"dataframe\">\n",
       "  <thead>\n",
       "    <tr style=\"text-align: right;\">\n",
       "      <th></th>\n",
       "      <th>Probabilities</th>\n",
       "    </tr>\n",
       "  </thead>\n",
       "  <tbody>\n",
       "    <tr>\n",
       "      <th>underweight</th>\n",
       "      <td>0.250000</td>\n",
       "    </tr>\n",
       "    <tr>\n",
       "      <th>normal</th>\n",
       "      <td>0.100418</td>\n",
       "    </tr>\n",
       "    <tr>\n",
       "      <th>overweight</th>\n",
       "      <td>0.185185</td>\n",
       "    </tr>\n",
       "    <tr>\n",
       "      <th>obese</th>\n",
       "      <td>0.116667</td>\n",
       "    </tr>\n",
       "  </tbody>\n",
       "</table>\n",
       "</div>"
      ],
      "text/plain": [
       "             Probabilities\n",
       "underweight       0.250000\n",
       "normal            0.100418\n",
       "overweight        0.185185\n",
       "obese             0.116667"
      ]
     },
     "execution_count": 11,
     "metadata": {},
     "output_type": "execute_result"
    }
   ],
   "source": [
    "heartD_obesity_df = pd.DataFrame({\"Probabilities\":heartD_obesity_prop_table.values[0:4]}, index=heartD_obesity_prop_table.index[0:4])\n",
    "heartD_obesity_df"
   ]
  },
  {
   "cell_type": "markdown",
   "metadata": {},
   "source": [
    "P(Heart Disease) = .138"
   ]
  },
  {
   "cell_type": "markdown",
   "metadata": {},
   "source": [
    "**Conclusion**\n",
    "\n",
    "In this variable comparison, I will conclude that the Heart Disease and Obesity are dependent of one another. This is due to the inequal values of the Probability of having Heart Disease and the Probability of having Heart Disease given an individual that falls into one of the Obesity categories. "
   ]
  },
  {
   "cell_type": "markdown",
   "metadata": {},
   "source": [
    "<br>"
   ]
  },
  {
   "cell_type": "markdown",
   "metadata": {},
   "source": [
    "#### Looking into the Systolic Blood Pressure of the sample"
   ]
  },
  {
   "cell_type": "code",
   "execution_count": 12,
   "metadata": {},
   "outputs": [
    {
     "data": {
      "text/plain": [
       "Text(0.5, 1.0, 'Systolic Blood Pressure Histogram of Framingham Heart Study Sample')"
      ]
     },
     "execution_count": 12,
     "metadata": {},
     "output_type": "execute_result"
    },
    {
     "data": {
      "image/png": "[encoded data removed]",
      "text/plain": [
       "<Figure size 432x288 with 1 Axes>"
      ]
     },
     "metadata": {
      "needs_background": "light"
     },
     "output_type": "display_data"
    }
   ],
   "source": [
    "%matplotlib inline\n",
    "framingham_heart_study.SYSBP.plot.hist(grid=True, legend=True)\n",
    "plt.xlabel(\"Systolic Blood Pressure (mmHg)\")\n",
    "plt.title(\"Systolic Blood Pressure Histogram of Framingham Heart Study Sample\")"
   ]
  },
  {
   "cell_type": "code",
   "execution_count": 13,
   "metadata": {},
   "outputs": [
    {
     "data": {
      "text/plain": [
       "Text(0.5, 1.0, 'Systolic Blood Pressure Box plot of Framingham Heart Study Sample')"
      ]
     },
     "execution_count": 13,
     "metadata": {},
     "output_type": "execute_result"
    },
    {
     "data": {
      "image/png": "[encoded data removed]",
      "text/plain": [
       "<Figure size 432x288 with 1 Axes>"
      ]
     },
     "metadata": {
      "needs_background": "light"
     },
     "output_type": "display_data"
    }
   ],
   "source": [
    "framingham_heart_study.SYSBP.plot.box(grid=True, legend=True)\n",
    "plt.ylabel(\"Systolic Blood Pressure (mmHg)\")\n",
    "plt.title(\"Systolic Blood Pressure Box plot of Framingham Heart Study Sample\")"
   ]
  },
  {
   "cell_type": "markdown",
   "metadata": {},
   "source": [
    "**Conclusion**\n",
    "\n",
    "Comparing the histogram and the box plot alongside one another allows me to gain a better understanding of the dsitribution of the values within this column while also calling attention to the relevant outliers. From a very high level perspective, this information would be useful for physicians looking to treat the individuals with particularly concerning blood pressure. "
   ]
  },
  {
   "cell_type": "markdown",
   "metadata": {},
   "source": [
    "<br>"
   ]
  },
  {
   "cell_type": "markdown",
   "metadata": {},
   "source": [
    "##### Looking at the probability of values in the Systolic Blood Pressure"
   ]
  },
  {
   "cell_type": "code",
   "execution_count": 14,
   "metadata": {},
   "outputs": [],
   "source": [
    "sbp_mean, sbp_sd = framingham_heart_study.SYSBP.mean(), framingham_heart_study.SYSBP.std()"
   ]
  },
  {
   "cell_type": "code",
   "execution_count": 15,
   "metadata": {},
   "outputs": [
    {
     "data": {
      "text/plain": [
       "(133.282, 22.47078878672029)"
      ]
     },
     "execution_count": 15,
     "metadata": {},
     "output_type": "execute_result"
    }
   ],
   "source": [
    "sbp_mean, sbp_sd"
   ]
  },
  {
   "cell_type": "code",
   "execution_count": 16,
   "metadata": {},
   "outputs": [
    {
     "data": {
      "text/plain": [
       "0.22844182986384753"
      ]
     },
     "execution_count": 16,
     "metadata": {},
     "output_type": "execute_result"
    }
   ],
   "source": [
    "# Calculating the probability that the Systolic Blood Pressure is greater than 150\n",
    "1 - (st.norm.cdf(150, loc=sbp_mean, scale=sbp_sd))"
   ]
  },
  {
   "cell_type": "code",
   "execution_count": 17,
   "metadata": {},
   "outputs": [
    {
     "data": {
      "text/plain": [
       "0.2772339143222963"
      ]
     },
     "execution_count": 17,
     "metadata": {},
     "output_type": "execute_result"
    }
   ],
   "source": [
    "# Calculating the probability that the Systolic Blood Pressure is less than 120\n",
    "st.norm.cdf(120, loc=sbp_mean, scale=sbp_sd)"
   ]
  }
 ],
 "metadata": {
  "kernelspec": {
   "display_name": "Python 3",
   "language": "python",
   "name": "python3"
  },
  "language_info": {
   "codemirror_mode": {
    "name": "ipython",
    "version": 3
   },
   "file_extension": ".py",
   "mimetype": "text/x-python",
   "name": "python",
   "nbconvert_exporter": "python",
   "pygments_lexer": "ipython3",
   "version": "3.6.8"
  }
 },
 "nbformat": 4,
 "nbformat_minor": 2
}
