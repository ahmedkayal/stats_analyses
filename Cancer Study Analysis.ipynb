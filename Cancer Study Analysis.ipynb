{
 "cells": [
  {
   "cell_type": "markdown",
   "metadata": {},
   "source": [
    "The following analysis uses the results of a cancer patient survey to draw meanginful statistically based conclusions.\n",
    "\n",
    "Developed by Ahmed Kayal"
   ]
  },
  {
   "cell_type": "markdown",
   "metadata": {},
   "source": [
    "#### Package imports"
   ]
  },
  {
   "cell_type": "code",
   "execution_count": 1,
   "metadata": {},
   "outputs": [],
   "source": [
    "import numpy as np\n",
    "import pandas as pd\n",
    "from scipy import stats\n",
    "import statsmodels.api as sm\n",
    "from sklearn.linear_model import LinearRegression\n"
   ]
  },
  {
   "cell_type": "markdown",
   "metadata": {},
   "source": [
    "<br>"
   ]
  },
  {
   "cell_type": "code",
   "execution_count": 27,
   "metadata": {},
   "outputs": [],
   "source": [
    "def p_value_generator(input_features, target_feature):\n",
    "    \"\"\"\n",
    "    Calculates the relvance of each variable used within the Linear regression through p-values\n",
    "    \n",
    "    :param input_features: Input features to be used for training\n",
    "    :type input_features: 'pandas:DataFrame'\n",
    "    :param target_feature: Output column being predicted\n",
    "    :type target_feature: 'pandas:Series'\n",
    "    :return: Summary of regression results \n",
    "    \"\"\"\n",
    "    \n",
    "    features = sm.add_constant(input_features)\n",
    "    estimator = sm.OLS(target_feature, features)\n",
    "    trained_estimator = estimator.fit()\n",
    "    \n",
    "    return trained_estimator.summary()"
   ]
  },
  {
   "cell_type": "markdown",
   "metadata": {},
   "source": [
    "<br>"
   ]
  },
  {
   "cell_type": "markdown",
   "metadata": {},
   "source": [
    "##### File read and overview"
   ]
  },
  {
   "cell_type": "code",
   "execution_count": 3,
   "metadata": {},
   "outputs": [
    {
     "name": "stdout",
     "output_type": "stream",
     "text": [
      "Index(['id', 'studygroup', 'sexm', 'age', 'satisfaction', 'screened'], dtype='object') \n",
      " (300, 6)\n"
     ]
    }
   ],
   "source": [
    "df = pd.read_csv(\"/Users/ahmed/Desktop/CancerScreenStudy2014.csv\")\n",
    "print(df.columns, '\\n', df.shape)"
   ]
  },
  {
   "cell_type": "code",
   "execution_count": 16,
   "metadata": {},
   "outputs": [
    {
     "data": {
      "text/html": [
       "<div>\n",
       "<style scoped>\n",
       "    .dataframe tbody tr th:only-of-type {\n",
       "        vertical-align: middle;\n",
       "    }\n",
       "\n",
       "    .dataframe tbody tr th {\n",
       "        vertical-align: top;\n",
       "    }\n",
       "\n",
       "    .dataframe thead th {\n",
       "        text-align: right;\n",
       "    }\n",
       "</style>\n",
       "<table border=\"1\" class=\"dataframe\">\n",
       "  <thead>\n",
       "    <tr style=\"text-align: right;\">\n",
       "      <th></th>\n",
       "      <th>age</th>\n",
       "      <th>satisfaction</th>\n",
       "    </tr>\n",
       "  </thead>\n",
       "  <tbody>\n",
       "    <tr>\n",
       "      <th>count</th>\n",
       "      <td>300.000000</td>\n",
       "      <td>300.000000</td>\n",
       "    </tr>\n",
       "    <tr>\n",
       "      <th>mean</th>\n",
       "      <td>61.183333</td>\n",
       "      <td>55.040000</td>\n",
       "    </tr>\n",
       "    <tr>\n",
       "      <th>std</th>\n",
       "      <td>6.179293</td>\n",
       "      <td>7.095978</td>\n",
       "    </tr>\n",
       "    <tr>\n",
       "      <th>min</th>\n",
       "      <td>50.000000</td>\n",
       "      <td>33.000000</td>\n",
       "    </tr>\n",
       "    <tr>\n",
       "      <th>25%</th>\n",
       "      <td>57.000000</td>\n",
       "      <td>51.000000</td>\n",
       "    </tr>\n",
       "    <tr>\n",
       "      <th>50%</th>\n",
       "      <td>61.000000</td>\n",
       "      <td>55.000000</td>\n",
       "    </tr>\n",
       "    <tr>\n",
       "      <th>75%</th>\n",
       "      <td>65.000000</td>\n",
       "      <td>60.000000</td>\n",
       "    </tr>\n",
       "    <tr>\n",
       "      <th>max</th>\n",
       "      <td>73.000000</td>\n",
       "      <td>76.000000</td>\n",
       "    </tr>\n",
       "  </tbody>\n",
       "</table>\n",
       "</div>"
      ],
      "text/plain": [
       "              age  satisfaction\n",
       "count  300.000000    300.000000\n",
       "mean    61.183333     55.040000\n",
       "std      6.179293      7.095978\n",
       "min     50.000000     33.000000\n",
       "25%     57.000000     51.000000\n",
       "50%     61.000000     55.000000\n",
       "75%     65.000000     60.000000\n",
       "max     73.000000     76.000000"
      ]
     },
     "execution_count": 16,
     "metadata": {},
     "output_type": "execute_result"
    }
   ],
   "source": [
    "df[[\"age\", \"satisfaction\"]].describe()"
   ]
  },
  {
   "cell_type": "code",
   "execution_count": 21,
   "metadata": {},
   "outputs": [
    {
     "data": {
      "text/html": [
       "<div>\n",
       "<style scoped>\n",
       "    .dataframe tbody tr th:only-of-type {\n",
       "        vertical-align: middle;\n",
       "    }\n",
       "\n",
       "    .dataframe tbody tr th {\n",
       "        vertical-align: top;\n",
       "    }\n",
       "\n",
       "    .dataframe thead th {\n",
       "        text-align: right;\n",
       "    }\n",
       "</style>\n",
       "<table border=\"1\" class=\"dataframe\">\n",
       "  <thead>\n",
       "    <tr style=\"text-align: right;\">\n",
       "      <th></th>\n",
       "      <th>studygroup</th>\n",
       "      <th>sexm</th>\n",
       "      <th>screened</th>\n",
       "    </tr>\n",
       "  </thead>\n",
       "  <tbody>\n",
       "    <tr>\n",
       "      <th>1</th>\n",
       "      <td>159</td>\n",
       "      <td>151</td>\n",
       "      <td>169</td>\n",
       "    </tr>\n",
       "    <tr>\n",
       "      <th>0</th>\n",
       "      <td>141</td>\n",
       "      <td>149</td>\n",
       "      <td>131</td>\n",
       "    </tr>\n",
       "  </tbody>\n",
       "</table>\n",
       "</div>"
      ],
      "text/plain": [
       "   studygroup  sexm  screened\n",
       "1         159   151       169\n",
       "0         141   149       131"
      ]
     },
     "execution_count": 21,
     "metadata": {},
     "output_type": "execute_result"
    }
   ],
   "source": [
    "df[[\"studygroup\", \"sexm\", \"screened\"]].apply(pd.Series.value_counts)"
   ]
  },
  {
   "cell_type": "markdown",
   "metadata": {},
   "source": [
    "<br>"
   ]
  },
  {
   "cell_type": "markdown",
   "metadata": {},
   "source": [
    "**Interest**\n",
    "\n",
    "Given that this is a small dataset, I'm interested in looking at the relationship between patient satisfaction scores and the two available study groups. To do so, I'll rely on a linear regression model where satisfaction is the target variable and the study group is the input feature. "
   ]
  },
  {
   "cell_type": "code",
   "execution_count": 12,
   "metadata": {},
   "outputs": [
    {
     "name": "stdout",
     "output_type": "stream",
     "text": [
      "The linear regression's slope is -1.45002 and the y-intercept is 55.80851\n"
     ]
    }
   ],
   "source": [
    "input_features = df[[\"studygroup\"]]\n",
    "target = df[\"satisfaction\"]\n",
    "\n",
    "lm = LinearRegression().fit(X=input_features, y=target)\n",
    "\n",
    "print(f\"The linear regression's slope is {round(lm.coef_[0], 5)} and the y-intercept is {round(lm.intercept_, 5)}\")\n"
   ]
  },
  {
   "cell_type": "markdown",
   "metadata": {},
   "source": [
    "The above slope indicates that the participants in the intervention group have a 1.45 lower mean patient satisfaction score as compared to the control group. "
   ]
  },
  {
   "cell_type": "markdown",
   "metadata": {},
   "source": [
    "<br>"
   ]
  },
  {
   "cell_type": "code",
   "execution_count": 11,
   "metadata": {},
   "outputs": [
    {
     "name": "stdout",
     "output_type": "stream",
     "text": [
      "1.044% variability in patient satisfaction is explained by the different study groups.\n"
     ]
    }
   ],
   "source": [
    "# Checking the coefficient of determination\n",
    "r_squared_val = round(lm.score(X=input_features, y=target), 5) * 100\n",
    "\n",
    "print(f\"{r_squared_val}% variability in patient satisfaction is explained by the different study groups.\")"
   ]
  },
  {
   "cell_type": "code",
   "execution_count": 6,
   "metadata": {},
   "outputs": [
    {
     "name": "stderr",
     "output_type": "stream",
     "text": [
      "/anaconda3/lib/python3.6/site-packages/numpy/core/fromnumeric.py:2389: FutureWarning: Method .ptp is deprecated and will be removed in a future version. Use numpy.ptp instead.\n",
      "  return ptp(axis=axis, out=out, **kwargs)\n"
     ]
    },
    {
     "data": {
      "text/html": [
       "<table class=\"simpletable\">\n",
       "<caption>OLS Regression Results</caption>\n",
       "<tr>\n",
       "  <th>Dep. Variable:</th>      <td>satisfaction</td>   <th>  R-squared:         </th> <td>   0.010</td>\n",
       "</tr>\n",
       "<tr>\n",
       "  <th>Model:</th>                   <td>OLS</td>       <th>  Adj. R-squared:    </th> <td>   0.007</td>\n",
       "</tr>\n",
       "<tr>\n",
       "  <th>Method:</th>             <td>Least Squares</td>  <th>  F-statistic:       </th> <td>   3.143</td>\n",
       "</tr>\n",
       "<tr>\n",
       "  <th>Date:</th>             <td>Sat, 25 Jan 2020</td> <th>  Prob (F-statistic):</th>  <td>0.0773</td> \n",
       "</tr>\n",
       "<tr>\n",
       "  <th>Time:</th>                 <td>12:29:53</td>     <th>  Log-Likelihood:    </th> <td> -1011.5</td>\n",
       "</tr>\n",
       "<tr>\n",
       "  <th>No. Observations:</th>      <td>   300</td>      <th>  AIC:               </th> <td>   2027.</td>\n",
       "</tr>\n",
       "<tr>\n",
       "  <th>Df Residuals:</th>          <td>   298</td>      <th>  BIC:               </th> <td>   2034.</td>\n",
       "</tr>\n",
       "<tr>\n",
       "  <th>Df Model:</th>              <td>     1</td>      <th>                     </th>     <td> </td>   \n",
       "</tr>\n",
       "<tr>\n",
       "  <th>Covariance Type:</th>      <td>nonrobust</td>    <th>                     </th>     <td> </td>   \n",
       "</tr>\n",
       "</table>\n",
       "<table class=\"simpletable\">\n",
       "<tr>\n",
       "       <td></td>         <th>coef</th>     <th>std err</th>      <th>t</th>      <th>P>|t|</th>  <th>[0.025</th>    <th>0.975]</th>  \n",
       "</tr>\n",
       "<tr>\n",
       "  <th>const</th>      <td>   55.8085</td> <td>    0.595</td> <td>   93.723</td> <td> 0.000</td> <td>   54.637</td> <td>   56.980</td>\n",
       "</tr>\n",
       "<tr>\n",
       "  <th>studygroup</th> <td>   -1.4500</td> <td>    0.818</td> <td>   -1.773</td> <td> 0.077</td> <td>   -3.060</td> <td>    0.160</td>\n",
       "</tr>\n",
       "</table>\n",
       "<table class=\"simpletable\">\n",
       "<tr>\n",
       "  <th>Omnibus:</th>       <td> 0.670</td> <th>  Durbin-Watson:     </th> <td>   2.035</td>\n",
       "</tr>\n",
       "<tr>\n",
       "  <th>Prob(Omnibus):</th> <td> 0.715</td> <th>  Jarque-Bera (JB):  </th> <td>   0.656</td>\n",
       "</tr>\n",
       "<tr>\n",
       "  <th>Skew:</th>          <td>-0.113</td> <th>  Prob(JB):          </th> <td>   0.720</td>\n",
       "</tr>\n",
       "<tr>\n",
       "  <th>Kurtosis:</th>      <td> 2.963</td> <th>  Cond. No.          </th> <td>    2.69</td>\n",
       "</tr>\n",
       "</table><br/><br/>Warnings:<br/>[1] Standard Errors assume that the covariance matrix of the errors is correctly specified."
      ],
      "text/plain": [
       "<class 'statsmodels.iolib.summary.Summary'>\n",
       "\"\"\"\n",
       "                            OLS Regression Results                            \n",
       "==============================================================================\n",
       "Dep. Variable:           satisfaction   R-squared:                       0.010\n",
       "Model:                            OLS   Adj. R-squared:                  0.007\n",
       "Method:                 Least Squares   F-statistic:                     3.143\n",
       "Date:                Sat, 25 Jan 2020   Prob (F-statistic):             0.0773\n",
       "Time:                        12:29:53   Log-Likelihood:                -1011.5\n",
       "No. Observations:                 300   AIC:                             2027.\n",
       "Df Residuals:                     298   BIC:                             2034.\n",
       "Df Model:                           1                                         \n",
       "Covariance Type:            nonrobust                                         \n",
       "==============================================================================\n",
       "                 coef    std err          t      P>|t|      [0.025      0.975]\n",
       "------------------------------------------------------------------------------\n",
       "const         55.8085      0.595     93.723      0.000      54.637      56.980\n",
       "studygroup    -1.4500      0.818     -1.773      0.077      -3.060       0.160\n",
       "==============================================================================\n",
       "Omnibus:                        0.670   Durbin-Watson:                   2.035\n",
       "Prob(Omnibus):                  0.715   Jarque-Bera (JB):                0.656\n",
       "Skew:                          -0.113   Prob(JB):                        0.720\n",
       "Kurtosis:                       2.963   Cond. No.                         2.69\n",
       "==============================================================================\n",
       "\n",
       "Warnings:\n",
       "[1] Standard Errors assume that the covariance matrix of the errors is correctly specified.\n",
       "\"\"\""
      ]
     },
     "execution_count": 6,
     "metadata": {},
     "output_type": "execute_result"
    }
   ],
   "source": [
    "# Looking for the p-values for the variables of interest \n",
    "p_value_generator(input_features, target)"
   ]
  },
  {
   "cell_type": "markdown",
   "metadata": {},
   "source": [
    "<br>\n",
    "\n",
    "**Conclusion**\n",
    "\n",
    "Despite the extended results shown above, the particularly important output is in the middle table. The linear regression model's p-value for the study group variable can indicate if there is any statistically relevant difference between the study's two groups. In this case, the value .077 is rather large meaning that there is no significant difference in mean patient satisfaction scores for the two different study groups. "
   ]
  },
  {
   "cell_type": "markdown",
   "metadata": {},
   "source": [
    "<br>"
   ]
  },
  {
   "cell_type": "markdown",
   "metadata": {},
   "source": [
    "<br>"
   ]
  },
  {
   "cell_type": "markdown",
   "metadata": {},
   "source": [
    "**Interest**\n",
    "\n",
    "Seeing that there isn't a significant difference in scores between the two study groups, I'll look into the relationship that exists between patient satisfaction and the study group and age variables. "
   ]
  },
  {
   "cell_type": "code",
   "execution_count": 7,
   "metadata": {},
   "outputs": [],
   "source": [
    "input_features_v2 = df[[\"studygroup\", \"age\"]]\n",
    "target_v2 = df[\"satisfaction\"]\n",
    "\n",
    "lm_v2 = LinearRegression().fit(X=input_features_v2, y=target_v2)"
   ]
  },
  {
   "cell_type": "code",
   "execution_count": 8,
   "metadata": {},
   "outputs": [
    {
     "name": "stdout",
     "output_type": "stream",
     "text": [
      "The linear regression's slope is 4.52975 and the y-intercept is 10.521267792715939\n"
     ]
    }
   ],
   "source": [
    "print(f\"The linear regression's slope is {round(lm_v2.coef_[0], 5)} and the y-intercept is {lm_v2.intercept_}\")"
   ]
  },
  {
   "cell_type": "markdown",
   "metadata": {},
   "source": [
    "The value of the slope indicates that the participants of the intervention group had 4.53 higher mean patient satisfaction score as compared to the control group after adjusting for age. "
   ]
  },
  {
   "cell_type": "markdown",
   "metadata": {},
   "source": [
    "<br>"
   ]
  },
  {
   "cell_type": "code",
   "execution_count": 24,
   "metadata": {},
   "outputs": [
    {
     "name": "stdout",
     "output_type": "stream",
     "text": [
      "19.23% variability in patient satisfaction is explained by the study group and age predictors.\n"
     ]
    }
   ],
   "source": [
    "# Checking the coefficient of determination\n",
    "r_squared_val_v2 = round(lm_v2.score(X=input_features_v2, y=target_v2), 5) * 100\n",
    "\n",
    "print(f\"{r_squared_val_v2}% variability in patient satisfaction is explained by the study group and age predictors.\")"
   ]
  },
  {
   "cell_type": "code",
   "execution_count": 28,
   "metadata": {},
   "outputs": [
    {
     "data": {
      "text/html": [
       "<table class=\"simpletable\">\n",
       "<caption>OLS Regression Results</caption>\n",
       "<tr>\n",
       "  <th>Dep. Variable:</th>      <td>satisfaction</td>   <th>  R-squared:         </th> <td>   0.192</td>\n",
       "</tr>\n",
       "<tr>\n",
       "  <th>Model:</th>                   <td>OLS</td>       <th>  Adj. R-squared:    </th> <td>   0.187</td>\n",
       "</tr>\n",
       "<tr>\n",
       "  <th>Method:</th>             <td>Least Squares</td>  <th>  F-statistic:       </th> <td>   35.36</td>\n",
       "</tr>\n",
       "<tr>\n",
       "  <th>Date:</th>             <td>Sun, 26 Jan 2020</td> <th>  Prob (F-statistic):</th> <td>1.68e-14</td>\n",
       "</tr>\n",
       "<tr>\n",
       "  <th>Time:</th>                 <td>15:02:13</td>     <th>  Log-Likelihood:    </th> <td> -981.00</td>\n",
       "</tr>\n",
       "<tr>\n",
       "  <th>No. Observations:</th>      <td>   300</td>      <th>  AIC:               </th> <td>   1968.</td>\n",
       "</tr>\n",
       "<tr>\n",
       "  <th>Df Residuals:</th>          <td>   297</td>      <th>  BIC:               </th> <td>   1979.</td>\n",
       "</tr>\n",
       "<tr>\n",
       "  <th>Df Model:</th>              <td>     2</td>      <th>                     </th>     <td> </td>   \n",
       "</tr>\n",
       "<tr>\n",
       "  <th>Covariance Type:</th>      <td>nonrobust</td>    <th>                     </th>     <td> </td>   \n",
       "</tr>\n",
       "</table>\n",
       "<table class=\"simpletable\">\n",
       "<tr>\n",
       "       <td></td>         <th>coef</th>     <th>std err</th>      <th>t</th>      <th>P>|t|</th>  <th>[0.025</th>    <th>0.975]</th>  \n",
       "</tr>\n",
       "<tr>\n",
       "  <th>const</th>      <td>   10.5213</td> <td>    5.564</td> <td>    1.891</td> <td> 0.060</td> <td>   -0.429</td> <td>   21.471</td>\n",
       "</tr>\n",
       "<tr>\n",
       "  <th>studygroup</th> <td>    4.5297</td> <td>    1.040</td> <td>    4.354</td> <td> 0.000</td> <td>    2.482</td> <td>    6.577</td>\n",
       "</tr>\n",
       "<tr>\n",
       "  <th>age</th>        <td>    0.6884</td> <td>    0.084</td> <td>    8.178</td> <td> 0.000</td> <td>    0.523</td> <td>    0.854</td>\n",
       "</tr>\n",
       "</table>\n",
       "<table class=\"simpletable\">\n",
       "<tr>\n",
       "  <th>Omnibus:</th>       <td> 0.578</td> <th>  Durbin-Watson:     </th> <td>   1.993</td>\n",
       "</tr>\n",
       "<tr>\n",
       "  <th>Prob(Omnibus):</th> <td> 0.749</td> <th>  Jarque-Bera (JB):  </th> <td>   0.500</td>\n",
       "</tr>\n",
       "<tr>\n",
       "  <th>Skew:</th>          <td>-0.100</td> <th>  Prob(JB):          </th> <td>   0.779</td>\n",
       "</tr>\n",
       "<tr>\n",
       "  <th>Kurtosis:</th>      <td> 3.011</td> <th>  Cond. No.          </th> <td>    936.</td>\n",
       "</tr>\n",
       "</table><br/><br/>Warnings:<br/>[1] Standard Errors assume that the covariance matrix of the errors is correctly specified."
      ],
      "text/plain": [
       "<class 'statsmodels.iolib.summary.Summary'>\n",
       "\"\"\"\n",
       "                            OLS Regression Results                            \n",
       "==============================================================================\n",
       "Dep. Variable:           satisfaction   R-squared:                       0.192\n",
       "Model:                            OLS   Adj. R-squared:                  0.187\n",
       "Method:                 Least Squares   F-statistic:                     35.36\n",
       "Date:                Sun, 26 Jan 2020   Prob (F-statistic):           1.68e-14\n",
       "Time:                        15:02:13   Log-Likelihood:                -981.00\n",
       "No. Observations:                 300   AIC:                             1968.\n",
       "Df Residuals:                     297   BIC:                             1979.\n",
       "Df Model:                           2                                         \n",
       "Covariance Type:            nonrobust                                         \n",
       "==============================================================================\n",
       "                 coef    std err          t      P>|t|      [0.025      0.975]\n",
       "------------------------------------------------------------------------------\n",
       "const         10.5213      5.564      1.891      0.060      -0.429      21.471\n",
       "studygroup     4.5297      1.040      4.354      0.000       2.482       6.577\n",
       "age            0.6884      0.084      8.178      0.000       0.523       0.854\n",
       "==============================================================================\n",
       "Omnibus:                        0.578   Durbin-Watson:                   1.993\n",
       "Prob(Omnibus):                  0.749   Jarque-Bera (JB):                0.500\n",
       "Skew:                          -0.100   Prob(JB):                        0.779\n",
       "Kurtosis:                       3.011   Cond. No.                         936.\n",
       "==============================================================================\n",
       "\n",
       "Warnings:\n",
       "[1] Standard Errors assume that the covariance matrix of the errors is correctly specified.\n",
       "\"\"\""
      ]
     },
     "execution_count": 28,
     "metadata": {},
     "output_type": "execute_result"
    }
   ],
   "source": [
    "# Looking for the p-values for the variables of interest \n",
    "p_value_generator(input_features_v2, target_v2)"
   ]
  },
  {
   "cell_type": "markdown",
   "metadata": {},
   "source": [
    "**Conclusion**\n",
    "\n",
    "Similar to the previous OLS output, the relevant output is in the middle table. The low p-values of the study group and age features shows that there is a signficant difference in mean patient satisfaction scores for the two different study groups after adjusting for age.  \n",
    "\n",
    "Note that the low p-value or Prob(F-statistic) from the first table suggests that age and study group are signifcant predictors of satisfaction. By comparing the p-values associated with the R-squared value for the univariate linear regression to the p-values of the multivariate linear regression, there was a significant descrease when age was included in the model. As a result of the shift in statistical signficance, it can be concluded that age is a possible confounding variable in this analysis. "
   ]
  }
 ],
 "metadata": {
  "kernelspec": {
   "display_name": "Python 3",
   "language": "python",
   "name": "python3"
  },
  "language_info": {
   "codemirror_mode": {
    "name": "ipython",
    "version": 3
   },
   "file_extension": ".py",
   "mimetype": "text/x-python",
   "name": "python",
   "nbconvert_exporter": "python",
   "pygments_lexer": "ipython3",
   "version": "3.6.8"
  }
 },
 "nbformat": 4,
 "nbformat_minor": 2
}
